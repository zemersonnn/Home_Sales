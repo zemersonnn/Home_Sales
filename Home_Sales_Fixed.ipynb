{
  "nbformat": 4,
  "nbformat_minor": 0,
  "metadata": {
    "colab": {
      "provenance": [],
      "authorship_tag": "ABX9TyOe49wAeiylN8LacWhP2e3J",
      "include_colab_link": true
    },
    "kernelspec": {
      "name": "python3",
      "display_name": "Python 3"
    },
    "language_info": {
      "name": "python"
    }
  },
  "cells": [
    {
      "cell_type": "markdown",
      "metadata": {
        "id": "view-in-github",
        "colab_type": "text"
      },
      "source": [
        "<a href=\"https://colab.research.google.com/github/zemersonnn/Home_Sales/blob/main/Home_Sales_Fixed.ipynb\" target=\"_parent\"><img src=\"https://colab.research.google.com/assets/colab-badge.svg\" alt=\"Open In Colab\"/></a>"
      ]
    },
    {
      "cell_type": "code",
      "execution_count": 2,
      "metadata": {
        "id": "cTWti694M1_g"
      },
      "outputs": [],
      "source": [
        "!wget -q https://downloads.apache.org/spark/spark-3.0.1/spark-3.0.1-bin-hadoop3.2.tgz"
      ]
    },
    {
      "cell_type": "code",
      "source": [
        "import os"
      ],
      "metadata": {
        "id": "cZP6m-svM-Jq"
      },
      "execution_count": 3,
      "outputs": []
    },
    {
      "cell_type": "code",
      "source": [
        "os.environ[\"SPARK_HOME\"] = \"/content/spark-3.0.1-bin-hadoop3.2\""
      ],
      "metadata": {
        "id": "-3ON7UtgM6GR"
      },
      "execution_count": 4,
      "outputs": []
    },
    {
      "cell_type": "code",
      "source": [
        "!pip install findspark"
      ],
      "metadata": {
        "colab": {
          "base_uri": "https://localhost:8080/"
        },
        "id": "b9gHnQXxNH6w",
        "outputId": "46633f8e-b3da-49d6-f5af-a16a59941f4f"
      },
      "execution_count": 5,
      "outputs": [
        {
          "output_type": "stream",
          "name": "stdout",
          "text": [
            "Collecting findspark\n",
            "  Downloading findspark-2.0.1-py2.py3-none-any.whl (4.4 kB)\n",
            "Installing collected packages: findspark\n",
            "Successfully installed findspark-2.0.1\n"
          ]
        }
      ]
    },
    {
      "cell_type": "code",
      "source": [
        "!pip install pyspark"
      ],
      "metadata": {
        "colab": {
          "base_uri": "https://localhost:8080/"
        },
        "id": "CvzC6Xd9NOJS",
        "outputId": "efe96bd4-06a9-4f14-e769-7640f247dc2a"
      },
      "execution_count": 6,
      "outputs": [
        {
          "output_type": "stream",
          "name": "stdout",
          "text": [
            "Collecting pyspark\n",
            "  Downloading pyspark-3.5.1.tar.gz (317.0 MB)\n",
            "\u001b[2K     \u001b[90m━━━━━━━━━━━━━━━━━━━━━━━━━━━━━━━━━━━━━━━━\u001b[0m \u001b[32m317.0/317.0 MB\u001b[0m \u001b[31m2.4 MB/s\u001b[0m eta \u001b[36m0:00:00\u001b[0m\n",
            "\u001b[?25h  Preparing metadata (setup.py) ... \u001b[?25l\u001b[?25hdone\n",
            "Requirement already satisfied: py4j==0.10.9.7 in /usr/local/lib/python3.10/dist-packages (from pyspark) (0.10.9.7)\n",
            "Building wheels for collected packages: pyspark\n",
            "  Building wheel for pyspark (setup.py) ... \u001b[?25l\u001b[?25hdone\n",
            "  Created wheel for pyspark: filename=pyspark-3.5.1-py2.py3-none-any.whl size=317488493 sha256=744bf3ea0975a098c142e8b8f13074e8960eebd6591201cd795979a0022b6177\n",
            "  Stored in directory: /root/.cache/pip/wheels/80/1d/60/2c256ed38dddce2fdd93be545214a63e02fbd8d74fb0b7f3a6\n",
            "Successfully built pyspark\n",
            "Installing collected packages: pyspark\n",
            "Successfully installed pyspark-3.5.1\n"
          ]
        }
      ]
    },
    {
      "cell_type": "code",
      "source": [
        "! pip install py4j"
      ],
      "metadata": {
        "colab": {
          "base_uri": "https://localhost:8080/"
        },
        "id": "-CHgtoJ1NyNq",
        "outputId": "edbb235c-664a-4df5-beaa-47167df51309"
      },
      "execution_count": 7,
      "outputs": [
        {
          "output_type": "stream",
          "name": "stdout",
          "text": [
            "Requirement already satisfied: py4j in /usr/local/lib/python3.10/dist-packages (0.10.9.7)\n"
          ]
        }
      ]
    },
    {
      "cell_type": "code",
      "source": [
        "! pip uninstall py4j"
      ],
      "metadata": {
        "colab": {
          "base_uri": "https://localhost:8080/"
        },
        "id": "gFUpwPwbN3cZ",
        "outputId": "ff324916-8749-4ce4-ce84-d6434727323a"
      },
      "execution_count": 8,
      "outputs": [
        {
          "output_type": "stream",
          "name": "stdout",
          "text": [
            "Found existing installation: py4j 0.10.9.7\n",
            "Uninstalling py4j-0.10.9.7:\n",
            "  Would remove:\n",
            "    /usr/local/lib/python3.10/dist-packages/py4j-0.10.9.7.dist-info/*\n",
            "    /usr/local/lib/python3.10/dist-packages/py4j/*\n",
            "    /usr/local/share/py4j/py4j0.10.9.7.jar\n",
            "Proceed (Y/n)? n\n"
          ]
        }
      ]
    },
    {
      "cell_type": "code",
      "source": [
        "! pip install py4j"
      ],
      "metadata": {
        "colab": {
          "base_uri": "https://localhost:8080/"
        },
        "id": "1eVrSWjtOBwA",
        "outputId": "2d472596-3917-42c9-d8f8-cda6b765e922"
      },
      "execution_count": 10,
      "outputs": [
        {
          "output_type": "stream",
          "name": "stdout",
          "text": [
            "Collecting py4j\n",
            "  Downloading py4j-0.10.9.7-py2.py3-none-any.whl (200 kB)\n",
            "\u001b[2K     \u001b[90m━━━━━━━━━━━━━━━━━━━━━━━━━━━━━━━━━━━━━━━━\u001b[0m \u001b[32m200.5/200.5 kB\u001b[0m \u001b[31m1.7 MB/s\u001b[0m eta \u001b[36m0:00:00\u001b[0m\n",
            "\u001b[?25hInstalling collected packages: py4j\n",
            "Successfully installed py4j-0.10.9.7\n"
          ]
        }
      ]
    },
    {
      "cell_type": "code",
      "source": [
        "import os\n",
        "\n",
        "# Get the current user's home directory\n",
        "home_directory = os.path.expanduser(\"~\")\n",
        "\n",
        "# Set the SPARK_HOME environment variable\n",
        "os.environ[\"SPARK_HOME\"] = f\"{home_directory}/spark-3.0.1-bin-hadoop3.2\""
      ],
      "metadata": {
        "id": "P7fuzZv7OY23"
      },
      "execution_count": 9,
      "outputs": []
    },
    {
      "cell_type": "code",
      "source": [
        "# Print the value of the SPARK_HOME environment variable\n",
        "print(os.environ[\"SPARK_HOME\"])"
      ],
      "metadata": {
        "colab": {
          "base_uri": "https://localhost:8080/"
        },
        "id": "e4KLmJZEOcjX",
        "outputId": "66ea2a32-2959-4d52-df9a-1dff0ada5c9e"
      },
      "execution_count": 10,
      "outputs": [
        {
          "output_type": "stream",
          "name": "stdout",
          "text": [
            "/root/spark-3.0.1-bin-hadoop3.2\n"
          ]
        }
      ]
    },
    {
      "cell_type": "code",
      "source": [
        "# Restart the Python interpreter to ensure the environment variable is updated\n",
        "exit()"
      ],
      "metadata": {
        "id": "PG2myyh5OfWR"
      },
      "execution_count": 11,
      "outputs": []
    },
    {
      "cell_type": "code",
      "source": [
        "# Import findspark and initialize.\n",
        "import findspark\n",
        "findspark.init()"
      ],
      "metadata": {
        "id": "aD5-FFEGOvHY"
      },
      "execution_count": null,
      "outputs": []
    },
    {
      "cell_type": "code",
      "source": [
        "# Import packages\n",
        "from pyspark.sql import SparkSession\n",
        "import time\n",
        "\n",
        "# Create a SparkSession\n",
        "spark = SparkSession.builder.appName(\"SparkSQL\").getOrCreate()"
      ],
      "metadata": {
        "id": "RQLkTBHyQAVB"
      },
      "execution_count": 2,
      "outputs": []
    },
    {
      "cell_type": "code",
      "source": [
        "# 1. Read in the AWS S3 bucket into a DataFrame.\n",
        "from pyspark import SparkFiles\n",
        "url = \"https://2u-data-curriculum-team.s3.amazonaws.com/dataviz-classroom/v1.2/22-big-data/home_sales_revised.csv\"\n",
        "\n"
      ],
      "metadata": {
        "id": "HmdhxM8iQDnV"
      },
      "execution_count": 3,
      "outputs": []
    },
    {
      "cell_type": "code",
      "source": [
        "spark.sparkContext.addFile(url)\n",
        "\n",
        "df = spark.read.option('header', 'true').csv(SparkFiles.get(\"home_sales_revised.csv\"), inferSchema=True, sep=',', timestampFormat=\"mm/dd/yy\")"
      ],
      "metadata": {
        "id": "kEjUDAH7RvVy"
      },
      "execution_count": 4,
      "outputs": []
    },
    {
      "cell_type": "code",
      "source": [
        "# 2. Create a temporary view of the DataFrame.\n",
        "df.createOrReplaceTempView('home_data')\n",
        "df.show()\n"
      ],
      "metadata": {
        "colab": {
          "base_uri": "https://localhost:8080/"
        },
        "id": "r-FRPDgmQGex",
        "outputId": "6b2c0973-421c-4e11-9778-929e756a5b18"
      },
      "execution_count": 5,
      "outputs": [
        {
          "output_type": "stream",
          "name": "stdout",
          "text": [
            "+--------------------+----------+----------+------+--------+---------+-----------+--------+------+----------+----+\n",
            "|                  id|      date|date_built| price|bedrooms|bathrooms|sqft_living|sqft_lot|floors|waterfront|view|\n",
            "+--------------------+----------+----------+------+--------+---------+-----------+--------+------+----------+----+\n",
            "|f8a53099-ba1c-47d...|2022-04-08|      2016|936923|       4|        3|       3167|   11733|     2|         1|  76|\n",
            "|7530a2d8-1ae3-451...|2021-06-13|      2013|379628|       2|        2|       2235|   14384|     1|         0|  23|\n",
            "|43de979c-0bf0-4c9...|2019-04-12|      2014|417866|       2|        2|       2127|   10575|     2|         0|   0|\n",
            "|b672c137-b88c-48b...|2019-10-16|      2016|239895|       2|        2|       1631|   11149|     2|         0|   0|\n",
            "|e0726d4d-d595-407...|2022-01-08|      2017|424418|       3|        2|       2249|   13878|     2|         0|   4|\n",
            "|5aa00529-0533-46b...|2019-01-30|      2017|218712|       2|        3|       1965|   14375|     2|         0|   7|\n",
            "|131492a1-72e2-4a8...|2020-02-08|      2017|419199|       2|        3|       2062|    8876|     2|         0|   6|\n",
            "|8d54a71b-c520-44e...|2019-07-21|      2010|323956|       2|        3|       1506|   11816|     1|         0|  25|\n",
            "|e81aacfe-17fe-46b...|2020-06-16|      2016|181925|       3|        3|       2137|   11709|     2|         0|  22|\n",
            "|2ed8d509-7372-46d...|2021-08-06|      2015|258710|       3|        3|       1918|    9666|     1|         0|  25|\n",
            "|f876d86f-3c9f-42b...|2019-02-27|      2011|167864|       3|        3|       2471|   13924|     2|         0|  15|\n",
            "|0a2bd445-8508-4d8...|2021-12-30|      2014|337527|       2|        3|       1926|   12556|     1|         0|  23|\n",
            "|941bad30-eb49-4a7...|2020-05-09|      2015|229896|       3|        3|       2197|    8641|     1|         0|   3|\n",
            "|dd61eb34-6589-4c0...|2021-07-25|      2016|210247|       3|        2|       1672|   11986|     2|         0|  28|\n",
            "|f1e4cef7-d151-439...|2019-02-01|      2011|398667|       2|        3|       2331|   11356|     1|         0|   7|\n",
            "|ea620c7b-c2f7-4c6...|2021-05-31|      2011|437958|       3|        3|       2356|   11052|     1|         0|  26|\n",
            "|f233cb41-6f33-4b0...|2021-07-18|      2016|437375|       4|        3|       1704|   11721|     2|         0|  34|\n",
            "|c797ca12-52cd-4b1...|2019-06-08|      2015|288650|       2|        3|       2100|   10419|     2|         0|   7|\n",
            "|0cfe57f3-28c2-472...|2019-10-04|      2015|308313|       3|        3|       1960|    9453|     2|         0|   2|\n",
            "|4566cd2a-ac6e-435...|2019-07-15|      2016|177541|       3|        3|       2130|   10517|     2|         0|  25|\n",
            "+--------------------+----------+----------+------+--------+---------+-----------+--------+------+----------+----+\n",
            "only showing top 20 rows\n",
            "\n"
          ]
        }
      ]
    },
    {
      "cell_type": "code",
      "source": [
        "# 3. What is the average price for a four bedroom house sold per year, rounded to two decimal places?\n",
        "from pyspark.sql.functions import mean\n",
        "from pyspark.sql.functions import round, col\n",
        "\n",
        "four_bedroom = df.filter(df.bedrooms == 4)\\\n",
        "  .groupBy(\"date\")\\\n",
        "  .agg(round(mean(\"price\"),2).alias(\"avg_price\"))\n",
        "\n",
        "four_bedroom.show()\n"
      ],
      "metadata": {
        "colab": {
          "base_uri": "https://localhost:8080/"
        },
        "id": "O1kT8WMtQcz1",
        "outputId": "1515f3f0-d7ac-44e1-b804-c9beed1b7c62"
      },
      "execution_count": 6,
      "outputs": [
        {
          "output_type": "stream",
          "name": "stdout",
          "text": [
            "+----------+---------+\n",
            "|      date|avg_price|\n",
            "+----------+---------+\n",
            "|2021-11-13| 358445.0|\n",
            "|2019-05-08| 234979.5|\n",
            "|2021-08-27|275547.25|\n",
            "|2021-01-27|367520.57|\n",
            "|2021-06-22| 297708.8|\n",
            "|2021-10-11|283388.33|\n",
            "|2020-08-24|301080.75|\n",
            "|2022-03-28|338544.78|\n",
            "|2019-06-04|306373.08|\n",
            "|2021-12-18| 305264.3|\n",
            "|2020-11-29|318153.89|\n",
            "|2020-01-21| 420576.0|\n",
            "|2020-07-24| 293661.5|\n",
            "|2021-11-25|291762.27|\n",
            "|2019-11-18|290259.83|\n",
            "|2019-09-22| 284864.5|\n",
            "|2020-08-05|243835.56|\n",
            "|2019-11-01|254751.38|\n",
            "|2021-10-02|303838.38|\n",
            "|2020-08-29| 285457.3|\n",
            "+----------+---------+\n",
            "only showing top 20 rows\n",
            "\n"
          ]
        }
      ]
    },
    {
      "cell_type": "code",
      "source": [
        "# 4. What is the average price of a home for each year the home was built,\n",
        "# that have 3 bedrooms and 3 bathrooms, rounded to two decimal places?\n",
        "three_bedroom = df.filter((df.bedrooms == 3)&(df.bathrooms == 3))\\\n",
        "  .groupBy(\"date\")\\\n",
        "  .agg(round(mean(\"price\"), 2).alias(\"avg_price\"))\n",
        "\n",
        "three_bedroom.show()\n"
      ],
      "metadata": {
        "colab": {
          "base_uri": "https://localhost:8080/"
        },
        "id": "JDyRpzdzQeqx",
        "outputId": "b75a6f14-ffdd-4d4d-d95b-bc0ddcc31cab"
      },
      "execution_count": 7,
      "outputs": [
        {
          "output_type": "stream",
          "name": "stdout",
          "text": [
            "+----------+---------+\n",
            "|      date|avg_price|\n",
            "+----------+---------+\n",
            "|2019-05-08|285754.71|\n",
            "|2021-06-22| 306565.0|\n",
            "|2021-01-27|385711.75|\n",
            "|2020-08-24|319252.33|\n",
            "|2021-11-13|348180.33|\n",
            "|2022-03-28| 280464.4|\n",
            "|2021-10-11| 289886.4|\n",
            "|2021-12-18| 178508.5|\n",
            "|2021-08-27|298209.33|\n",
            "|2019-06-04| 223109.0|\n",
            "|2020-08-05|304566.75|\n",
            "|2019-11-18|319833.67|\n",
            "|2020-01-21| 303045.8|\n",
            "|2021-11-25|321816.67|\n",
            "|2019-11-01| 279354.0|\n",
            "|2020-07-24| 283740.0|\n",
            "|2020-11-29| 366673.0|\n",
            "|2021-10-02| 400307.5|\n",
            "|2019-09-22| 350352.5|\n",
            "|2020-04-30| 192065.5|\n",
            "+----------+---------+\n",
            "only showing top 20 rows\n",
            "\n"
          ]
        }
      ]
    },
    {
      "cell_type": "code",
      "source": [
        "# 5. What is the average price of a home for each year the home was built,\n",
        "# that have 3 bedrooms, 3 bathrooms, with two floors,\n",
        "# and are greater than or equal to 2,000 square feet, rounded to two decimal places?\n",
        "three_bedroom_sq_foot = df.filter((df.bedrooms == 3)&(df.bathrooms == 3)&(df.floors == 2)&(df.sqft_living >= 2000))\\\n",
        "  .groupBy(\"date\")\\\n",
        "  .agg(round(mean(\"price\"), 2).alias(\"avg_price\"))\n",
        "\n",
        "three_bedroom_sq_foot.show()\n"
      ],
      "metadata": {
        "colab": {
          "base_uri": "https://localhost:8080/"
        },
        "id": "CtYSu43XQgZe",
        "outputId": "334859f9-5249-44af-8322-003a8ab543d6"
      },
      "execution_count": 8,
      "outputs": [
        {
          "output_type": "stream",
          "name": "stdout",
          "text": [
            "+----------+---------+\n",
            "|      date|avg_price|\n",
            "+----------+---------+\n",
            "|2021-06-22| 420422.0|\n",
            "|2021-01-27| 446538.0|\n",
            "|2021-12-18| 178508.5|\n",
            "|2021-11-13| 697736.0|\n",
            "|2021-08-27| 385686.0|\n",
            "|2022-03-28| 204818.0|\n",
            "|2021-10-11| 167892.0|\n",
            "|2019-05-08| 391556.0|\n",
            "|2019-11-01|201940.33|\n",
            "|2019-11-18| 398256.0|\n",
            "|2021-10-02| 402262.0|\n",
            "|2019-09-22| 365867.0|\n",
            "|2020-01-21| 293205.0|\n",
            "|2020-04-30| 232217.0|\n",
            "|2022-01-31| 284811.0|\n",
            "|2022-05-19|302160.33|\n",
            "|2020-08-29| 423501.0|\n",
            "|2020-08-28| 296028.5|\n",
            "|2019-11-21| 428167.0|\n",
            "|2021-07-30| 346839.0|\n",
            "+----------+---------+\n",
            "only showing top 20 rows\n",
            "\n"
          ]
        }
      ]
    },
    {
      "cell_type": "code",
      "source": [
        "# 6. What is the average price of a home per \"view\" rating, rounded to two decimal places,\n",
        "# having an average home price greater than or equal to $350,000? Order by descending view rating.\n",
        "# Although this is a small dataset, determine the run time for this query.\n",
        "\n",
        "start_time = time.time()\n",
        "\n",
        "\n",
        "\n",
        "print(\"--- %s seconds ---\" % (time.time() - start_time))"
      ],
      "metadata": {
        "colab": {
          "base_uri": "https://localhost:8080/"
        },
        "id": "uHTa6Dl4QiUm",
        "outputId": "3827d172-9782-42b4-f5e8-23758dcdec67"
      },
      "execution_count": 9,
      "outputs": [
        {
          "output_type": "stream",
          "name": "stdout",
          "text": [
            "--- 0.00012111663818359375 seconds ---\n"
          ]
        }
      ]
    },
    {
      "cell_type": "code",
      "source": [
        "# 6. What is the average price of a home per \"view\" rating, rounded to two decimal places,\n",
        "# having an average home price greater than or equal to $350,000? Order by descending view rating.\n",
        "# Although this is a small dataset, determine the run time for this query.\n",
        "\n",
        "\n",
        "\n",
        "avg_price = df.filter(df.price >= 350000)\\\n",
        "  .select(mean(\"price\").alias(\"avg_price\"))\\\n",
        "  .collect()[0][\"avg_price\"]\n",
        "view_rating = None\n",
        "if avg_price < 500000:\n",
        "  view_rating = \"Low\"\n",
        "elif avg_price >= 500000 and avg_price < 800000:\n",
        "  view_rating = \"Medium\"\n",
        "else:\n",
        "  view_rating = \"High\"\n",
        "  print(\"Average Price:\", round(avg_price, 2))\n",
        "print(\"View Rating:\", view_rating)\n",
        "\n"
      ],
      "metadata": {
        "colab": {
          "base_uri": "https://localhost:8080/"
        },
        "outputId": "fb777a44-eaac-46d4-cc49-6c5288bc1e52",
        "id": "SdFhf3sPw-XV"
      },
      "execution_count": 14,
      "outputs": [
        {
          "output_type": "stream",
          "name": "stdout",
          "text": [
            "View Rating: Low\n"
          ]
        }
      ]
    },
    {
      "cell_type": "code",
      "source": [
        "# 7. Cache the the temporary table home_data\n",
        "spark.catalog.cacheTable(\"home_data\")"
      ],
      "metadata": {
        "id": "8GFZmMDGQkNQ"
      },
      "execution_count": 16,
      "outputs": []
    },
    {
      "cell_type": "code",
      "source": [
        "# 8. Check if the table is cached.\n",
        "spark.catalog.isCached('home_data')"
      ],
      "metadata": {
        "colab": {
          "base_uri": "https://localhost:8080/"
        },
        "id": "mQAju4IdQpwv",
        "outputId": "6389f5dc-ee12-4608-bc54-7619bd4f7265"
      },
      "execution_count": 18,
      "outputs": [
        {
          "output_type": "execute_result",
          "data": {
            "text/plain": [
              "True"
            ]
          },
          "metadata": {},
          "execution_count": 18
        }
      ]
    },
    {
      "cell_type": "code",
      "source": [
        "# 9. Using the cached data, run the last query above, that calculates\n",
        "# the average price of a home per \"view\" rating, rounded to two decimal places,\n",
        "# having an average home price greater than or equal to $350,000.\n",
        "# Determine the runtime and compare it to the uncached runtime.\n",
        "\n",
        "start_time = time.time()\n",
        "\n",
        "\n",
        "\n",
        "print(\"--- %s seconds ---\" % (time.time() - start_time))\n"
      ],
      "metadata": {
        "colab": {
          "base_uri": "https://localhost:8080/"
        },
        "id": "76om8uk-Qt-G",
        "outputId": "3fec3470-364d-45a6-9f8a-8b4bd0c3301d"
      },
      "execution_count": 19,
      "outputs": [
        {
          "output_type": "stream",
          "name": "stdout",
          "text": [
            "--- 8.869171142578125e-05 seconds ---\n"
          ]
        }
      ]
    },
    {
      "cell_type": "code",
      "source": [
        "# 10. Partition by the \"date_built\" field on the formatted parquet home sales data\n",
        "df.write.partitionBy('date_built').parquet('p_sales', mode='overwrite')"
      ],
      "metadata": {
        "id": "3RdBt6udQ0E1"
      },
      "execution_count": 20,
      "outputs": []
    },
    {
      "cell_type": "code",
      "source": [
        "# 11. Read the formatted parquet data.\n",
        "parquet_df = spark.read.parquet('p_sales')"
      ],
      "metadata": {
        "id": "eOGMJWHfQ3OB"
      },
      "execution_count": 21,
      "outputs": []
    },
    {
      "cell_type": "code",
      "source": [
        "# 12. Create a temporary table for the parquet data.\n",
        "parquet_df.createOrReplaceTempView('p_sales')"
      ],
      "metadata": {
        "id": "UEWSA2dTQ4vs"
      },
      "execution_count": 22,
      "outputs": []
    },
    {
      "cell_type": "code",
      "source": [
        "# 13. Using the parquet DataFrame, run the last query above, that calculates\n",
        "# the average price of a home per \"view\" rating, rounded to two decimal places,\n",
        "# having an average home price greater than or equal to $350,000.\n",
        "# Determine the runtime and compare it to the cached runtime.\n",
        "\n",
        "start_time = time.time()\n",
        "\n",
        "\n",
        "\n",
        "print(\"--- %s seconds ---\" % (time.time() - start_time))"
      ],
      "metadata": {
        "colab": {
          "base_uri": "https://localhost:8080/"
        },
        "id": "kt36oYWIQ7TG",
        "outputId": "89ec7dc6-cd76-4075-daab-954f27a0a3d7"
      },
      "execution_count": 23,
      "outputs": [
        {
          "output_type": "stream",
          "name": "stdout",
          "text": [
            "--- 9.870529174804688e-05 seconds ---\n"
          ]
        }
      ]
    },
    {
      "cell_type": "code",
      "source": [
        "# 14. Uncache the home_sales temporary table.\n",
        "spark.catalog.uncacheTable(\"home_data\")"
      ],
      "metadata": {
        "id": "y6oG2VPIQ8fF"
      },
      "execution_count": 24,
      "outputs": []
    },
    {
      "cell_type": "code",
      "source": [
        "# 15. Check if the home_sales is no longer cached\n",
        "spark.stop()"
      ],
      "metadata": {
        "id": "Q21T6BlRQ-LL"
      },
      "execution_count": 25,
      "outputs": []
    },
    {
      "cell_type": "code",
      "source": [
        "spark.catalog.isCached('home_data')"
      ],
      "metadata": {
        "colab": {
          "base_uri": "https://localhost:8080/"
        },
        "outputId": "2351b4bc-009f-4697-81ba-7e8ba51cb403",
        "id": "1mbUTRhDzxiL"
      },
      "execution_count": 26,
      "outputs": [
        {
          "output_type": "execute_result",
          "data": {
            "text/plain": [
              "False"
            ]
          },
          "metadata": {},
          "execution_count": 26
        }
      ]
    }
  ]
}